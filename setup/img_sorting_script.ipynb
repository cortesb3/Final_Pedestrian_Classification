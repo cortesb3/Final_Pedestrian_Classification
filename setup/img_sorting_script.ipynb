{
 "cells": [
  {
   "cell_type": "code",
   "execution_count": null,
   "metadata": {},
   "outputs": [
    {
     "ename": "",
     "evalue": "",
     "output_type": "error",
     "traceback": [
      "\u001b[1;31mRunning cells with 'Python 3.12.3' requires the ipykernel package.\n",
      "\u001b[1;31mRun the following command to install 'ipykernel' into the Python environment. \n",
      "\u001b[1;31mCommand: 'c:/Users/beacort/AppData/Local/Programs/Python/Python312/python.exe -m pip install ipykernel -U --user --force-reinstall'"
     ]
    }
   ],
   "source": [
    "import os\n",
    "import cv2\n",
    "from PIL import Image, ImageTk\n",
    "import tkinter as tk\n",
    "from tkinter import messagebox\n",
    "import glob"
   ]
  },
  {
   "cell_type": "code",
   "execution_count": null,
   "metadata": {},
   "outputs": [],
   "source": [
    "class image_sorter:\n",
    "    def __init__(self, master, img_dir, valid_dir, discard_dir, invalid_dir):\n",
    "        self.master = master\n",
    "        \n",
    "        # defining folder paths\n",
    "        self.img_dir = img_dir\n",
    "        self.valid_dir = valid_dir\n",
    "        self.discard_dir = discard_dir\n",
    "        self.invalid_dir = invalid_dir\n",
    "        \n",
    "        # img_paths\n",
    "        self.images_fps = glob.glob(img_dir)\n",
    "        self.image_index = 0\n",
    "\n",
    "        # gui setup\n",
    "        self.master.title(\"Image Sorter\")\n",
    "        self.label = tk.Label(master)\n",
    "        self.label.pack()\n",
    "        \n",
    "        self.button_valid = tk.Button(master, text=\"Valid\", command=self.save_valid)\n",
    "        self.button_valid.pack(side=tk.RIGHT)\n",
    "        \n",
    "        self.button_discard = tk.Button(master, text='Discard', command=self.save_discard)\n",
    "        self.button_discard.pack(side=tk.TOP)\n",
    "        \n",
    "        self.button_invalid = tk.Button(master, text='Invalid', command=self.save_invalid)\n",
    "        self.button_invalid.pack(side=tk.LEFT)\n",
    "        \n",
    "        self.show_image()\n",
    "        \n",
    "    def show_image(self):\n",
    "        if self.image_index < len(self.images_fps):\n",
    "            image = cv2.imread(self.images_fps[self.image_index])\n",
    "            \n",
    "            #resize if images are too small\n",
    "            factor = 1\n",
    "            image = cv2.resize(image, (image.shape[1]*factor, image.shape[0]*factor))\n",
    "\n",
    "            image = cv2.cvtColor(image, cv2.COLOR_BGR2RGB)\n",
    "            image = Image.fromarray(image)\n",
    "            image = ImageTk.PhotoImage(image)\n",
    "\n",
    "            self.label.config(image=image)\n",
    "            self.label.image = image\n",
    "            \n",
    "        else:\n",
    "            messagebox.showinfo(\"Info\", \"Images done sorting or file path is incorrect\")\n",
    "            \n",
    "    def save_image(self, folder):\n",
    "        img_path = self.images_fps[self.image_index]\n",
    "        dest_path = os.path.join(folder, self.ids[self.image_index])\n",
    "\n",
    "        if not os.path.exists(folder):\n",
    "            os.makedirs(folder)\n",
    "\n",
    "        os.rename(img_path, dest_path)\n",
    "        self.image_index += 1\n",
    "        self.show_image()\n",
    "        \n",
    "    def save_valid(self):\n",
    "        self.save_image(self.valid_dir)\n",
    "\n",
    "    def save_discard(self):\n",
    "        self.save_image(self.discard_dir)\n",
    "        \n",
    "    def save_invalid(self):\n",
    "        self.save_image(self.invalid_dir)"
   ]
  },
  {
   "cell_type": "code",
   "execution_count": null,
   "metadata": {},
   "outputs": [],
   "source": [
    "# folder dir \n",
    "img_dir = '.\\\\cropped_outputs\\\\*'\n",
    "valid_dir = '.\\\\valid\\\\'\n",
    "discard_dir = '.\\\\discard\\\\'\n",
    "invalid_dir = '.\\\\invalid\\\\'"
   ]
  },
  {
   "cell_type": "code",
   "execution_count": null,
   "metadata": {},
   "outputs": [],
   "source": [
    "sorter = tk.Toplevel()\n",
    "app = image_sorter(sorter, img_dir, valid_dir, discard_dir, invalid_dir)\n",
    "sorter.mainloop()"
   ]
  }
 ],
 "metadata": {
  "kernelspec": {
   "display_name": "pedestrian_pipeline",
   "language": "python",
   "name": "python3"
  },
  "language_info": {
   "codemirror_mode": {
    "name": "ipython",
    "version": 3
   },
   "file_extension": ".py",
   "mimetype": "text/x-python",
   "name": "python",
   "nbconvert_exporter": "python",
   "pygments_lexer": "ipython3",
   "version": "3.12.3"
  }
 },
 "nbformat": 4,
 "nbformat_minor": 2
}
