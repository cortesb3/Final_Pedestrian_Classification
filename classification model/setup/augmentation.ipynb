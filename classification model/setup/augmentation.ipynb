{
 "cells": [
  {
   "cell_type": "code",
   "execution_count": 3,
   "metadata": {},
   "outputs": [],
   "source": [
    "import os\n",
    "from torchvision import transforms\n",
    "import torch\n",
    "import shutil\n",
    "from torch.utils.data import Dataset as BaseDataset\n",
    "import matplotlib.pyplot as plt\n",
    "from PIL import Image, ImageDraw\n",
    "import random\n",
    "import numpy as np\n",
    "import glob"
   ]
  },
  {
   "cell_type": "code",
   "execution_count": null,
   "metadata": {},
   "outputs": [],
   "source": [
    "file_path = '.\\\\to_augment\\\\*'\n",
    "file_list = glob.glob(file_path)"
   ]
  },
  {
   "cell_type": "code",
   "execution_count": null,
   "metadata": {},
   "outputs": [],
   "source": [
    "for idx, img_file in enumerate(file_list):\n",
    "    img = Image.open(img_file)\n",
    "    w, h = img.size\n",
    "    result = Image.new(img.mode, (w, h), (0, 0, 0))\n",
    "    img_id = img_file[13:]\n",
    "    \n",
    "    if idx < 490:\n",
    "        # rgb_img = img.crop((round(img.size[0]*0.5), 0, w, img.size[1]))\n",
    "        rgb_img = img.crop((0, 0, round(img.size[0]*0.5), img.size[1]))\n",
    "        result.paste(rgb_img, (round(img.size[0]*0.5), 0))\n",
    "    elif idx < 981:\n",
    "        rgb_img = img.crop((round(img.size[0]*0.5), 0, w, img.size[1]))\n",
    "        result.paste(rgb_img, (round(img.size[0]*0.5), 0))\n",
    "    elif idx < 1962:\n",
    "        draw = ImageDraw.Draw(img)\n",
    "        x1 = random.randint(round(img.size[0]*0.25), round(img.size[0]*.75))\n",
    "        y1 = random.randint(round(img.size[1]*0.25), round(img.size[1]*.75))\n",
    "\n",
    "        draw.circle((x1, y1), radius=random.randint(round(0.10*img.size[1]), round(0.25*img.size[1])), fill = 'black', outline ='black')\n",
    "    elif idx < 3434:\n",
    "        x1 = random.randint(round(img.size[0]*0.2), round(img.size[0]*0.65))\n",
    "        y1 = random.randint(round(img.size[1]*0.2), round(img.size[1]*0.65))\n",
    "        vertical = [(x1, 0), (x1+(random.randint(round(img.size[0]*0.05), round(img.size[0]*0.30))), img.size[1])]\n",
    "        draw.rectangle(xy=vertical, fill='black', width=1, outline ='black')\n",
    "    else:\n",
    "        x1 = random.randint(round(img.size[0]*0.2), round(img.size[0]*0.65))\n",
    "        y1 = random.randint(round(img.size[1]*0.2), round(img.size[1]*0.65))\n",
    "        horizontal = [(0, y1), (img.size[1], y1+(random.randint(0, round(img.size[1]*0.35))))]\n",
    "        draw.rectangle(xy=horizontal, fill='black', width=1, outline ='black')\n",
    "    \n",
    "    if idx < 981:    \n",
    "        result = result.save(f'.\\\\cityscapes_augmented\\\\{img_id}')\n",
    "    else:\n",
    "        img = img.save(f'.\\\\cityscapes_augmented\\\\{img_id}')"
   ]
  },
  {
   "cell_type": "code",
   "execution_count": 45,
   "metadata": {},
   "outputs": [],
   "source": [
    "file_path = '.\\\\7.24_augmented_NOSPLIT\\\\'\n",
    "\n",
    "file_list = os.listdir(file_path)\n",
    "\n",
    "\n",
    "# print(len(file_list))\n",
    "# print(round(len(file_list)*.7))\n",
    "for f in range(len(file_list)):\n",
    "    src_path = os.path.join(file_path, file_list[f])\n",
    "    dst_path = f'.\\\\7.24_dataset_FINAL\\\\invalid\\\\test\\\\{file_list[f]}'\n",
    "    shutil.move(src_path, dst_path)"
   ]
  }
 ],
 "metadata": {
  "kernelspec": {
   "display_name": "pedestrian_pipeline",
   "language": "python",
   "name": "python3"
  },
  "language_info": {
   "codemirror_mode": {
    "name": "ipython",
    "version": 3
   },
   "file_extension": ".py",
   "mimetype": "text/x-python",
   "name": "python",
   "nbconvert_exporter": "python",
   "pygments_lexer": "ipython3",
   "version": "3.12.3"
  }
 },
 "nbformat": 4,
 "nbformat_minor": 2
}
