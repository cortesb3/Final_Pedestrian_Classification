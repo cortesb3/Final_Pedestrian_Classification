{
 "cells": [
  {
   "cell_type": "code",
   "execution_count": 40,
   "metadata": {},
   "outputs": [],
   "source": [
    "\n",
    "import numpy as np\n",
    "import cv2\n",
    "import glob\n",
    "import os\n",
    "import json\n",
    "import matplotlib.pyplot as plt"
   ]
  },
  {
   "cell_type": "code",
   "execution_count": 41,
   "metadata": {},
   "outputs": [],
   "source": [
    "def get_cropped(data, height, width, img_id):\n",
    "    i = 0\n",
    "    for objects in data['objects']:\n",
    "        if objects['label'] == 'person':\n",
    "            points = np.array(objects['polygon'])\n",
    "            mask = np.zeros((height, width), dtype=np.uint8)\n",
    "            \n",
    "            cv2.fillPoly(mask, np.int32([points]), (255))\n",
    "\n",
    "            res = cv2.bitwise_and(img,img,mask = mask)\n",
    "\n",
    "            rect = cv2.boundingRect(points) # returns (x,y,w,h) of the rect\n",
    "            im2 = np.full((res.shape[0], res.shape[1], 3), (0, 0, 0), dtype=np.uint8 ) \n",
    "            maskInv = cv2.bitwise_not(mask)\n",
    "            colorCrop = cv2.bitwise_or(im2,im2,mask = maskInv)\n",
    "            finalIm = res + colorCrop\n",
    "            cropped = finalIm[rect[1]: rect[1] + rect[3], rect[0]: rect[0] + rect[2]]\n",
    "\n",
    "            if len(np.argwhere(cropped != 0)) > 1000:\n",
    "                cv2.imwrite(f'.\\\\cropped_outputs\\\\{img_id}_{i}.png', cropped)\n",
    "                i +=1p\n",
    "    "
   ]
  },
  {
   "cell_type": "code",
   "execution_count": 42,
   "metadata": {},
   "outputs": [],
   "source": [
    "data_path = '.\\\\valid_cityscapes\\\\*'\n",
    "img_list = glob.glob(data_path)\n",
    "\n",
    "json_path = '.\\\\cityscapes_JSON\\\\*'\n",
    "json_list = glob.glob(json_path)\n",
    "\n",
    "for img_file in img_list:\n",
    "    img_id = img_file[19:-16]\n",
    "    \n",
    "    if os.path.join(json_path[:-1], f'{img_id}_gtFine_polygons.json') in json_list:\n",
    "        json_idx = json_list.index(os.path.join(json_path[:-1], f'{img_id}_gtFine_polygons.json'))\n",
    "        img = cv2.imread(img_file)\n",
    "        \n",
    "        f = open(json_list[json_idx])\n",
    "        data = json.load(f)\n",
    "        height = img.shape[0]\n",
    "        width = img.shape[1]\n",
    "        \n",
    "        get_cropped(data, height, width, img_id)\n",
    "        \n",
    "        \n",
    "    "
   ]
  },
  {
   "cell_type": "code",
   "execution_count": 43,
   "metadata": {},
   "outputs": [],
   "source": [
    "# img = cv2.imread(img_list[4])\n",
    "# f = open('.\\\\cityscapes_JSON\\\\aachen_000005_000019_gtFine_polygons.json')\n",
    "# data = json.load(f)\n",
    "# height = img.shape[0]\n",
    "# width = img.shape[1]\n",
    "\n",
    "# for objects in data['objects']:\n",
    "#     if objects['label'] == 'person':\n",
    "#         points = np.array(objects['polygon'])\n",
    "#         mask = np.zeros((height, width), dtype=np.uint8)\n",
    "        \n",
    "#         cv2.fillPoly(mask, np.int32([points]), (255))\n",
    "\n",
    "#         res = cv2.bitwise_and(img,img,mask = mask)\n",
    "\n",
    "#         rect = cv2.boundingRect(points) # returns (x,y,w,h) of the rect\n",
    "#         im2 = np.full((res.shape[0], res.shape[1], 3), (0, 0, 0), dtype=np.uint8 ) \n",
    "#         maskInv = cv2.bitwise_not(mask)\n",
    "#         colorCrop = cv2.bitwise_or(im2,im2,mask = maskInv)\n",
    "#         finalIm = res + colorCrop\n",
    "#         cropped = finalIm[rect[1]: rect[1] + rect[3], rect[0]: rect[0] + rect[2]]\n",
    "\n",
    "#         print(len(np.argwhere(cropped != 0)))\n",
    "#         plt.imshow(res)\n",
    "#         plt.show()\n",
    "#         plt.imshow(cropped)\n",
    "#         plt.show()\n",
    "   \n",
    "        \n",
    "        "
   ]
  }
 ],
 "metadata": {
  "kernelspec": {
   "display_name": "Python 3",
   "language": "python",
   "name": "python3"
  },
  "language_info": {
   "codemirror_mode": {
    "name": "ipython",
    "version": 3
   },
   "file_extension": ".py",
   "mimetype": "text/x-python",
   "name": "python",
   "nbconvert_exporter": "python",
   "pygments_lexer": "ipython3",
   "version": "3.12.3"
  }
 },
 "nbformat": 4,
 "nbformat_minor": 2
}
